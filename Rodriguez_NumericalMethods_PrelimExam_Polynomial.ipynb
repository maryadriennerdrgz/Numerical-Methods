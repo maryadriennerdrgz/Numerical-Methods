{
  "nbformat": 4,
  "nbformat_minor": 0,
  "metadata": {
    "colab": {
      "name": "Rodriguez_NumericalMethods_PrelimExam_Polynomial.ipynb",
      "provenance": [],
      "collapsed_sections": []
    },
    "kernelspec": {
      "name": "python3",
      "display_name": "Python 3"
    }
  },
  "cells": [
    {
      "cell_type": "code",
      "metadata": {
        "id": "aZmokwPwl69f"
      },
      "source": [
        "import numpy as np\r\n",
        "import math"
      ],
      "execution_count": 1,
      "outputs": []
    },
    {
      "cell_type": "code",
      "metadata": {
        "id": "DBsutlUWsswh"
      },
      "source": [
        "### brute force algorithm (f(x)=0)\r\n",
        "def f_of_x(f,roots,tol,i, epochs=100):\r\n",
        "  \r\n",
        "    # f = eq # equation to be solved\r\n",
        "    x_roots=[] # list of roots\r\n",
        "    n_roots= roots # number of roots needed to find\r\n",
        "    incre = i #increments\r\n",
        "\r\n",
        "    # end_epochs= stop_epochs #ending point of the iteration\r\n",
        "    # epochs= start_epochs #starting point of the iteration\r\n",
        "    h = tol #tolerance is the starting guess\r\n",
        "\r\n",
        "    end_epochs = 0\r\n",
        "    for epoch in range(epochs): # the list of iteration that will be using\r\n",
        "     if np.isclose(f(h),0): # applying current h or the tolerance in the equation and the approximation on f(x) = 0\r\n",
        "        if(h % 1 == 0):\r\n",
        "            h = int(h)\r\n",
        "        x_roots.insert(len(x_roots), h) \r\n",
        "        end_epochs = epochs\r\n",
        "        if len(x_roots) == n_roots:\r\n",
        "          break # once the root is found it will stop and print the root\r\n",
        "     h+=incre # the change of value in h wherein if the roots did not find it will going to loop\r\n",
        "     h-=0.5 \r\n",
        "   \r\n",
        "    return x_roots, end_epochs # returning the value of the roots and the iteration or the epochs"
      ],
      "execution_count": 2,
      "outputs": []
    },
    {
      "cell_type": "code",
      "metadata": {
        "colab": {
          "base_uri": "https://localhost:8080/"
        },
        "id": "78rNgfo4tcmY",
        "outputId": "63d07241-4170-480a-b991-0c1239560b57"
      },
      "source": [
        "sample1 = lambda x: x**2+x-2\r\n",
        "end, it = f_of_x(sample1,2,-10,1,100)\r\n",
        "print(end, it)"
      ],
      "execution_count": null,
      "outputs": [
        {
          "output_type": "stream",
          "text": [
            "[-2, 1] 100\n"
          ],
          "name": "stdout"
        }
      ]
    },
    {
      "cell_type": "code",
      "metadata": {
        "colab": {
          "base_uri": "https://localhost:8080/"
        },
        "id": "zIvSEgqTvTGk",
        "outputId": "a9aad854-6f9c-491e-9e30-c55476a74886"
      },
      "source": [
        "sample2 = lambda x: x**2+5*x+4\r\n",
        "end, it = f_of_x(sample2,2,-10,1,100)\r\n",
        "print(end, it)"
      ],
      "execution_count": null,
      "outputs": [
        {
          "output_type": "stream",
          "text": [
            "[-4, -1] 100\n"
          ],
          "name": "stdout"
        }
      ]
    },
    {
      "cell_type": "code",
      "metadata": {
        "colab": {
          "base_uri": "https://localhost:8080/"
        },
        "id": "5xv8FTQnokCA",
        "outputId": "7cf20818-d667-42cd-a1fd-3bef7e4ec442"
      },
      "source": [
        "sample3 = lambda x:  -x*4-14*x**3-6*x**2+24*x+40 \r\n",
        "end, it = f_of_x(sample3,4,-10,1,100)\r\n",
        "print(end, it)\r\n",
        "#x1 = 1.59\r\n",
        "#x2 = -13.44\r\n",
        "#x3 = -1.08\r\n",
        "#x4 = -1.08"
      ],
      "execution_count": null,
      "outputs": [
        {
          "output_type": "stream",
          "text": [
            "[] 0\n"
          ],
          "name": "stdout"
        }
      ]
    },
    {
      "cell_type": "code",
      "metadata": {
        "colab": {
          "base_uri": "https://localhost:8080/"
        },
        "id": "qL3qHhwkuR8J",
        "outputId": "3acb93e9-5ce1-4334-88bc-1c843c537bfb"
      },
      "source": [
        "sample4 = lambda x: 4*x**2-10*x+4\r\n",
        "end, it = f_of_x(sample4,2,-10,1,100)\r\n",
        "print(end, it)\r\n",
        "#x1 = 2\r\n",
        "#x2 = 0.5"
      ],
      "execution_count": null,
      "outputs": [
        {
          "output_type": "stream",
          "text": [
            "[0.5, 2] 100\n"
          ],
          "name": "stdout"
        }
      ]
    },
    {
      "cell_type": "code",
      "metadata": {
        "colab": {
          "base_uri": "https://localhost:8080/"
        },
        "id": "ll-sN8s-vWWT",
        "outputId": "194a1f3f-16e5-4814-8bf0-c41767b4c1bb"
      },
      "source": [
        "sample5 = lambda x: 5*x**3+2*x\r\n",
        "end, it = f_of_x(sample5,1,-10,1,100)\r\n",
        "print(end, it)"
      ],
      "execution_count": 15,
      "outputs": [
        {
          "output_type": "stream",
          "text": [
            "[0] 100\n"
          ],
          "name": "stdout"
        }
      ]
    },
    {
      "cell_type": "code",
      "metadata": {
        "colab": {
          "base_uri": "https://localhost:8080/"
        },
        "id": "TkJL4rAOvtKj",
        "outputId": "1a540c6e-0eaa-46c5-9145-4b1dde743f77"
      },
      "source": [
        "sample6 = lambda x: 6*x**3-25*x**2+2*x+8\r\n",
        "end, it = f_of_x(sample6,3,-10,1,100)\r\n",
        "print(end, it)\r\n",
        "#x1 = 4\r\n",
        "#x2 = 0.67\r\n",
        "#x3 = -0.5"
      ],
      "execution_count": null,
      "outputs": [
        {
          "output_type": "stream",
          "text": [
            "[-0.5, 4] 100\n"
          ],
          "name": "stdout"
        }
      ]
    },
    {
      "cell_type": "code",
      "metadata": {
        "colab": {
          "base_uri": "https://localhost:8080/"
        },
        "id": "sLVB1t3nx7cm",
        "outputId": "bddfc83a-d0d0-493b-f350-5707d51f4b40"
      },
      "source": [
        "sample7 = lambda x: -2*x\r\n",
        "end, it = f_of_x(sample7,1,-10,1,100)\r\n",
        "print(end, it)"
      ],
      "execution_count": 10,
      "outputs": [
        {
          "output_type": "stream",
          "text": [
            "[0] 100\n"
          ],
          "name": "stdout"
        }
      ]
    },
    {
      "cell_type": "code",
      "metadata": {
        "colab": {
          "base_uri": "https://localhost:8080/"
        },
        "id": "04bJgr5Py9R4",
        "outputId": "1522c227-29f7-470d-b9e8-2da7acb5e697"
      },
      "source": [
        "sample8 = lambda x: -2*x**4-x**3+x**2\r\n",
        "end, it = f_of_x(sample8,4,-10,1,100)\r\n",
        "print(end, it)"
      ],
      "execution_count": 9,
      "outputs": [
        {
          "output_type": "stream",
          "text": [
            "[-1, 0, 0.5] 100\n"
          ],
          "name": "stdout"
        }
      ]
    },
    {
      "cell_type": "code",
      "metadata": {
        "colab": {
          "base_uri": "https://localhost:8080/"
        },
        "id": "qfEr9XBN0-Bk",
        "outputId": "02b2ab51-ebfd-456c-9ada-bc10bd96b3f1"
      },
      "source": [
        "sample9 = lambda x: -2*x**3-x+3\r\n",
        "end, it = f_of_x(sample9,3,-10,1,100)\r\n",
        "print(end, it)\r\n",
        "#x1 = 1\r\n",
        "#x21 = -0.5 + 1.12\r\n",
        "#x3 = -0.5 + 1.12"
      ],
      "execution_count": null,
      "outputs": [
        {
          "output_type": "stream",
          "text": [
            "[1] 100\n"
          ],
          "name": "stdout"
        }
      ]
    },
    {
      "cell_type": "code",
      "metadata": {
        "id": "1qDFLDPO1rl2",
        "colab": {
          "base_uri": "https://localhost:8080/"
        },
        "outputId": "2f810e06-3ec3-4a50-f828-9c5423800e41"
      },
      "source": [
        "sample10 = lambda x: -2*x**3-x+3\r\n",
        "end, it = f_of_x(sample10,3,-10,1,100)\r\n",
        "print(end, it)"
      ],
      "execution_count": null,
      "outputs": [
        {
          "output_type": "stream",
          "text": [
            "[1] 100\n"
          ],
          "name": "stdout"
        }
      ]
    },
    {
      "cell_type": "code",
      "metadata": {
        "id": "sG-uBLIt1d-J",
        "colab": {
          "base_uri": "https://localhost:8080/"
        },
        "outputId": "b05704a8-6b9a-45a1-e99a-3d164cd703d0"
      },
      "source": [
        "sample11 = lambda x: x**2-3*x+4\r\n",
        "end, it = f_of_x(sample11,2,-10,1,100)\r\n",
        "print(end, it)"
      ],
      "execution_count": null,
      "outputs": [
        {
          "output_type": "stream",
          "text": [
            "[] 0\n"
          ],
          "name": "stdout"
        }
      ]
    },
    {
      "cell_type": "code",
      "metadata": {
        "colab": {
          "base_uri": "https://localhost:8080/"
        },
        "id": "yrJxaSAHv5qr",
        "outputId": "1658b5d0-9c0a-462e-cf5b-b6c4d2d52155"
      },
      "source": [
        "sample12 = lambda x: 2*x**2-11*x+5\r\n",
        "end, it = f_of_x(sample12,2,-10,1,100)\r\n",
        "print(end, it)\r\n",
        "#x1 = 5\r\n",
        "#x2 = 0.5"
      ],
      "execution_count": null,
      "outputs": [
        {
          "output_type": "stream",
          "text": [
            "[0.5, 5] 100\n"
          ],
          "name": "stdout"
        }
      ]
    },
    {
      "cell_type": "code",
      "metadata": {
        "colab": {
          "base_uri": "https://localhost:8080/"
        },
        "id": "Bq76y6W-wbHm",
        "outputId": "5c16c341-5311-454e-daf3-5f83caca0108"
      },
      "source": [
        "sample13 = lambda x: 4*x**2+11*x+25\r\n",
        "end, it = f_of_x(sample13,2,-10,1,100)\r\n",
        "print(end, it)"
      ],
      "execution_count": null,
      "outputs": [
        {
          "output_type": "stream",
          "text": [
            "[] 0\n"
          ],
          "name": "stdout"
        }
      ]
    },
    {
      "cell_type": "code",
      "metadata": {
        "colab": {
          "base_uri": "https://localhost:8080/"
        },
        "id": "4DAwV6xMz0UN",
        "outputId": "927cdb1b-6f0f-4058-d46d-dbfa70562aaa"
      },
      "source": [
        "sample14 = lambda x: -15*x**2+25*x+100\r\n",
        "end, it = f_of_x(sample14,2,-10,1,100)\r\n",
        "print(end, it)"
      ],
      "execution_count": null,
      "outputs": [
        {
          "output_type": "stream",
          "text": [
            "[] 0\n"
          ],
          "name": "stdout"
        }
      ]
    },
    {
      "cell_type": "code",
      "metadata": {
        "colab": {
          "base_uri": "https://localhost:8080/"
        },
        "id": "_FM_KmOV1BiB",
        "outputId": "58e62af4-a755-4cd9-97f2-3140464d0955"
      },
      "source": [
        "sample15 = lambda x: x**3+x**2+x+6\r\n",
        "end, it = f_of_x(sample15,2,-10,1,100)\r\n",
        "print(end, it)\r\n",
        "#x1 = -2\r\n",
        "#x2 = 0.5\r\n",
        "#x3 = 0.5"
      ],
      "execution_count": 5,
      "outputs": [
        {
          "output_type": "stream",
          "text": [
            "[-2] 100\n"
          ],
          "name": "stdout"
        }
      ]
    }
  ]
}