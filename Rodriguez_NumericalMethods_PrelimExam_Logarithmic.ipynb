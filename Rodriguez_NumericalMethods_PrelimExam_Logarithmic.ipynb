{
  "nbformat": 4,
  "nbformat_minor": 0,
  "metadata": {
    "colab": {
      "name": "Rodriguez_NumericalMethods_PrelimExam_Logarithmic.ipynb",
      "provenance": []
    },
    "kernelspec": {
      "name": "python3",
      "display_name": "Python 3"
    }
  },
  "cells": [
    {
      "cell_type": "code",
      "metadata": {
        "id": "Jl5aVMvBwPje"
      },
      "source": [
        "import numpy as np\r\n",
        "import scipy.optimize as opt\r\n",
        "import math"
      ],
      "execution_count": 8,
      "outputs": []
    },
    {
      "cell_type": "code",
      "metadata": {
        "id": "p6hCKtohwxW_"
      },
      "source": [
        "### brute force algorithm (f(x)=0)\r\n",
        "def f_of_x(f,roots,tol,i, epochs=100):\r\n",
        "  \r\n",
        "    # f = eq # equation to be solved\r\n",
        "    x_roots=[] # list of roots\r\n",
        "    n_roots= roots # number of roots needed to find\r\n",
        "    incre = i #increments\r\n",
        "\r\n",
        "    # end_epochs= stop_epochs #ending point of the iteration\r\n",
        "    # epochs= start_epochs #starting point of the iteration\r\n",
        "    h = tol #tolerance is the starting guess\r\n",
        "\r\n",
        "    end_epochs = 0\r\n",
        "    for epoch in range(epochs): # the list of iteration that will be using\r\n",
        "     if np.isclose(f(h),0): # applying current h or the tolerance in the equation and the approximation on f(x) = 0\r\n",
        "        if(h % 1 == 0):\r\n",
        "            h = int(h)\r\n",
        "        x_roots.insert(len(x_roots), h) \r\n",
        "        end_epochs = epochs\r\n",
        "        if len(x_roots) == n_roots:\r\n",
        "          break # once the root is found it will stop and print the root\r\n",
        "     h+=incre # the change of value in h wherein if the roots did not find it will going to loop\r\n",
        "   \r\n",
        "    return x_roots, end_epochs # returning the value of the roots and the iteration or the epochs"
      ],
      "execution_count": 9,
      "outputs": []
    },
    {
      "cell_type": "code",
      "metadata": {
        "colab": {
          "base_uri": "https://localhost:8080/"
        },
        "id": "yxrZzBRmw0YP",
        "outputId": "4f0811e7-d373-43d1-ebb0-729f71c4693e"
      },
      "source": [
        "sample1 = lambda x: np.log(x**2)*(x-3)\r\n",
        "end, it = f_of_x(sample1,3,-10,1,100)\r\n",
        "print(end, it)"
      ],
      "execution_count": 11,
      "outputs": [
        {
          "output_type": "stream",
          "text": [
            "[-1, 1, 3] 100\n"
          ],
          "name": "stdout"
        },
        {
          "output_type": "stream",
          "text": [
            "/usr/local/lib/python3.7/dist-packages/ipykernel_launcher.py:1: RuntimeWarning: divide by zero encountered in log\n",
            "  \"\"\"Entry point for launching an IPython kernel.\n"
          ],
          "name": "stderr"
        }
      ]
    },
    {
      "cell_type": "code",
      "metadata": {
        "colab": {
          "base_uri": "https://localhost:8080/"
        },
        "id": "1SiwSpnS3LHK",
        "outputId": "dddb1e0f-3a7f-48dc-daba-44600cd21f6f"
      },
      "source": [
        "sample2 = lambda x: np.log(x-1)*(x**3)*(2*x**2)\r\n",
        "end, it = f_of_x(sample2,3,-10,1,100)\r\n",
        "print(end, it)"
      ],
      "execution_count": 14,
      "outputs": [
        {
          "output_type": "stream",
          "text": [
            "[2] 100\n"
          ],
          "name": "stdout"
        },
        {
          "output_type": "stream",
          "text": [
            "/usr/local/lib/python3.7/dist-packages/ipykernel_launcher.py:1: RuntimeWarning: invalid value encountered in log\n",
            "  \"\"\"Entry point for launching an IPython kernel.\n",
            "/usr/local/lib/python3.7/dist-packages/ipykernel_launcher.py:1: RuntimeWarning: divide by zero encountered in log\n",
            "  \"\"\"Entry point for launching an IPython kernel.\n"
          ],
          "name": "stderr"
        }
      ]
    },
    {
      "cell_type": "code",
      "metadata": {
        "colab": {
          "base_uri": "https://localhost:8080/"
        },
        "id": "MxwS7FZI3NAC",
        "outputId": "55ee58c9-4f8d-4305-930e-3a6247bde1a8"
      },
      "source": [
        "sample3 = lambda x: np.log(x**2)*(3*x**2)\r\n",
        "end, it = f_of_x(sample3,3,-10,1,100)\r\n",
        "print(end, it)"
      ],
      "execution_count": 18,
      "outputs": [
        {
          "output_type": "stream",
          "text": [
            "[-1, 1] 100\n"
          ],
          "name": "stdout"
        },
        {
          "output_type": "stream",
          "text": [
            "/usr/local/lib/python3.7/dist-packages/ipykernel_launcher.py:1: RuntimeWarning: divide by zero encountered in log\n",
            "  \"\"\"Entry point for launching an IPython kernel.\n",
            "/usr/local/lib/python3.7/dist-packages/ipykernel_launcher.py:1: RuntimeWarning: invalid value encountered in double_scalars\n",
            "  \"\"\"Entry point for launching an IPython kernel.\n"
          ],
          "name": "stderr"
        }
      ]
    }
  ]
}