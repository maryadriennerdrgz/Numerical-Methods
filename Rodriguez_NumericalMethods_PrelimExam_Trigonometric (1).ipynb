{
  "nbformat": 4,
  "nbformat_minor": 0,
  "metadata": {
    "colab": {
      "name": "Rodriguez_NumericalMethods_PrelimExam_Trigonometric.ipynb",
      "provenance": []
    },
    "kernelspec": {
      "name": "python3",
      "display_name": "Python 3"
    }
  },
  "cells": [
    {
      "cell_type": "code",
      "metadata": {
        "id": "ib6PLqhG1XCB"
      },
      "source": [
        "import numpy as np\r\n",
        "import scipy.optimize as opt\r\n",
        "import math"
      ],
      "execution_count": 36,
      "outputs": []
    },
    {
      "cell_type": "code",
      "metadata": {
        "id": "Zi5p-7L41fZj"
      },
      "source": [
        "### brute force algorithm (f(x)=0)\r\n",
        "def f_of_x(f,roots,tol,i, epochs=100):\r\n",
        "  \r\n",
        "    # f = eq # equation to be solved\r\n",
        "    x_roots=[] # list of roots\r\n",
        "    n_roots= roots # number of roots needed to find\r\n",
        "    incre = i #increments\r\n",
        "\r\n",
        "    # end_epochs= stop_epochs #ending point of the iteration\r\n",
        "    # epochs= start_epochs #starting point of the iteration\r\n",
        "    h = tol #tolerance is the starting guess\r\n",
        "\r\n",
        "    end_epochs = 0\r\n",
        "    for epoch in range(epochs): # the list of iteration that will be using\r\n",
        "     if np.isclose(f(h),0): # applying current h or the tolerance in the equation and the approximation on f(x) = 0\r\n",
        "        if(h % 1 == 0):\r\n",
        "            h = int(h)\r\n",
        "        x_roots.insert(len(x_roots), h) \r\n",
        "        end_epochs = epochs\r\n",
        "        if len(x_roots) == n_roots:\r\n",
        "          break # once the root is found it will stop and print the root\r\n",
        "     h+=incre # the change of value in h wherein if the roots did not find it will going to loop\r\n",
        "   \r\n",
        "    return x_roots, end_epochs # returning the value of the roots and the iteration or the epochs"
      ],
      "execution_count": 37,
      "outputs": []
    },
    {
      "cell_type": "code",
      "metadata": {
        "colab": {
          "base_uri": "https://localhost:8080/"
        },
        "id": "X6eHp6wQ8VeM",
        "outputId": "91d63dcd-5a2c-4783-df82-ea5f032be341"
      },
      "source": [
        "sample1 = lambda x: np.arctan(20*x)-np.arctan(-10*x)\r\n",
        "end, it = f_of_x(sample1,2,-10,1,100)\r\n",
        "print(end, it)"
      ],
      "execution_count": 49,
      "outputs": [
        {
          "output_type": "stream",
          "text": [
            "[0] 100\n"
          ],
          "name": "stdout"
        }
      ]
    },
    {
      "cell_type": "code",
      "metadata": {
        "colab": {
          "base_uri": "https://localhost:8080/"
        },
        "id": "e4rs2odW_XJT",
        "outputId": "b56b5471-8524-498f-9e2c-8cc991abb8c5"
      },
      "source": [
        "sample2 = lambda x: np.cos(0)+x**3+2*x+1\r\n",
        "end, it = f_of_x(sample2,2,-10,1,100)\r\n",
        "print(end, it)"
      ],
      "execution_count": 60,
      "outputs": [
        {
          "output_type": "stream",
          "text": [
            "[] 0\n"
          ],
          "name": "stdout"
        }
      ]
    },
    {
      "cell_type": "code",
      "metadata": {
        "colab": {
          "base_uri": "https://localhost:8080/"
        },
        "id": "gzUFeMsD_Z46",
        "outputId": "c66878a3-10cc-428e-cb47-696b58e404ba"
      },
      "source": [
        "sample3 = lambda x: math.tan(0)*x**2+x+2\r\n",
        "end, it = f_of_x(sample3,2,-10,1,100)\r\n",
        "print(end, it)"
      ],
      "execution_count": 61,
      "outputs": [
        {
          "output_type": "stream",
          "text": [
            "[-2] 100\n"
          ],
          "name": "stdout"
        }
      ]
    },
    {
      "cell_type": "code",
      "metadata": {
        "colab": {
          "base_uri": "https://localhost:8080/"
        },
        "id": "2iULqXCX_kmo",
        "outputId": "936f2bd7-ad0e-424a-977b-9305ee5623ae"
      },
      "source": [
        "sample4 = lambda x: np.cos(2*x)- np.cos(2*x)\r\n",
        "end, it = f_of_x(sample4,2,-10,1,100)\r\n",
        "print(end, it)"
      ],
      "execution_count": 62,
      "outputs": [
        {
          "output_type": "stream",
          "text": [
            "[-10, -9] 100\n"
          ],
          "name": "stdout"
        }
      ]
    },
    {
      "cell_type": "code",
      "metadata": {
        "id": "zc0mSfhG_lQS",
        "colab": {
          "base_uri": "https://localhost:8080/"
        },
        "outputId": "7ab74b2d-a046-4051-ced5-e0fcf04b70a4"
      },
      "source": [
        "sample5 = lambda x: np.arcsin(2+x**2)+np.arccos(2*x)\r\n",
        "end, it = f_of_x(sample5,2,-10,1,100)\r\n",
        "print(end, it)"
      ],
      "execution_count": 67,
      "outputs": [
        {
          "output_type": "stream",
          "text": [
            "[] 0\n"
          ],
          "name": "stdout"
        },
        {
          "output_type": "stream",
          "text": [
            "/usr/local/lib/python3.7/dist-packages/ipykernel_launcher.py:1: RuntimeWarning: invalid value encountered in arcsin\n",
            "  \"\"\"Entry point for launching an IPython kernel.\n",
            "/usr/local/lib/python3.7/dist-packages/ipykernel_launcher.py:1: RuntimeWarning: invalid value encountered in arccos\n",
            "  \"\"\"Entry point for launching an IPython kernel.\n"
          ],
          "name": "stderr"
        }
      ]
    },
    {
      "cell_type": "code",
      "metadata": {
        "id": "U-KHhLALBfz9",
        "colab": {
          "base_uri": "https://localhost:8080/"
        },
        "outputId": "ee38e4c8-a8bb-4dc3-bb13-dff596464811"
      },
      "source": [
        "sample6 = lambda x: np.sin(2*x+2)-np.tan(2*x-1)\r\n",
        "end, it = f_of_x(sample6,2,-10,1,100)\r\n",
        "print(end, it)"
      ],
      "execution_count": 74,
      "outputs": [
        {
          "output_type": "stream",
          "text": [
            "[] 0\n"
          ],
          "name": "stdout"
        }
      ]
    },
    {
      "cell_type": "code",
      "metadata": {
        "id": "dS_FDBsKBge7",
        "colab": {
          "base_uri": "https://localhost:8080/"
        },
        "outputId": "9f382e5f-09b1-4675-91a4-b69d909751fc"
      },
      "source": [
        "sample7 = lambda x: np.sin(4*x)-np.cos(2*x)\r\n",
        "end, it = f_of_x(sample7,2,-10,1,100)\r\n",
        "print(end, it)"
      ],
      "execution_count": 75,
      "outputs": [
        {
          "output_type": "stream",
          "text": [
            "[] 0\n"
          ],
          "name": "stdout"
        }
      ]
    }
  ]
}